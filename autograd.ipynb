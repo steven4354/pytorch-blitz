{
 "cells": [
  {
   "cell_type": "code",
   "execution_count": 2,
   "id": "fb840bb3-26b7-4607-b664-4661e775a0d1",
   "metadata": {},
   "outputs": [
    {
     "name": "stderr",
     "output_type": "stream",
     "text": [
      "/Users/stevenli/miniforge3/envs/pytorch-blitz/lib/python3.10/site-packages/torchvision/io/image.py:14: UserWarning: Failed to load image Python extension: 'dlopen(/Users/stevenli/miniforge3/envs/pytorch-blitz/lib/python3.10/site-packages/torchvision/image.so, 0x0006): Library not loaded: @rpath/libjpeg.9.dylib\n",
      "  Referenced from: <0B7EB158-53DC-3403-8A49-22178CAB4612> /Users/stevenli/miniforge3/envs/pytorch-blitz/lib/python3.10/site-packages/torchvision/image.so\n",
      "  Reason: tried: '/Users/stevenli/miniforge3/envs/pytorch-blitz/lib/python3.10/site-packages/torchvision/../../../libjpeg.9.dylib' (no such file), '/Users/stevenli/miniforge3/envs/pytorch-blitz/lib/python3.10/site-packages/torchvision/../../../libjpeg.9.dylib' (no such file), '/Users/stevenli/miniforge3/envs/pytorch-blitz/lib/python3.10/lib-dynload/../../libjpeg.9.dylib' (no such file), '/Users/stevenli/miniforge3/envs/pytorch-blitz/bin/../lib/libjpeg.9.dylib' (no such file)'If you don't plan on using image functionality from `torchvision.io`, you can ignore this warning. Otherwise, there might be something wrong with your environment. Did you have `libjpeg` or `libpng` installed before building `torchvision` from source?\n",
      "  warn(\n"
     ]
    }
   ],
   "source": [
    "import torch\n",
    "from torchvision.models import resnet18, ResNet18_Weights\n",
    "\n",
    "model = resnet18(weights=ResNet18_Weights.DEFAULT)\n",
    "data = torch.rand(1, 3, 64, 64)\n",
    "labels = torch.rand(1, 1000)"
   ]
  },
  {
   "cell_type": "code",
   "execution_count": 3,
   "id": "d34635d1-f75d-4b87-ab84-983934680524",
   "metadata": {},
   "outputs": [
    {
     "data": {
      "text/plain": [
       "torch.Size([1, 1000])"
      ]
     },
     "execution_count": 3,
     "metadata": {},
     "output_type": "execute_result"
    }
   ],
   "source": [
    "prediction = model(data) # forward pass\n",
    "prediction.size()"
   ]
  },
  {
   "cell_type": "code",
   "execution_count": 4,
   "id": "ef54483e-5aa0-471e-87d3-752849f0761e",
   "metadata": {},
   "outputs": [
    {
     "data": {
      "text/plain": [
       "torch.Size([1, 1000])"
      ]
     },
     "execution_count": 4,
     "metadata": {},
     "output_type": "execute_result"
    }
   ],
   "source": [
    "labels.size()"
   ]
  },
  {
   "cell_type": "code",
   "execution_count": 5,
   "id": "042fb089-9728-491b-a494-3a5aa7f934d6",
   "metadata": {},
   "outputs": [],
   "source": [
    "# Q: what is this minus actually doing? is it an elementwise minus?\n",
    "# Q: what is the sum here mean? is it summing up all the values in the vector?\n",
    "loss = (prediction - labels).sum()\n",
    "\n",
    "# Q: what is the math gthat backward is doing?\n",
    "loss.backward() # backward pass"
   ]
  },
  {
   "cell_type": "code",
   "execution_count": 6,
   "id": "27ce134f-f015-4152-8eeb-ada5b8a30e9d",
   "metadata": {},
   "outputs": [],
   "source": [
    "# what is this optim SGD doing?\n",
    "optim = torch.optim.SGD(model.parameters(), lr=1e-2, momentum=0.9)"
   ]
  },
  {
   "cell_type": "code",
   "execution_count": 7,
   "id": "ddee5c21-2727-4650-87d3-c95dd4b278cd",
   "metadata": {},
   "outputs": [],
   "source": [
    "optim.step() #gradient descent"
   ]
  },
  {
   "cell_type": "code",
   "execution_count": null,
   "id": "74ba5d69-4708-4da0-bd50-d84208da05bf",
   "metadata": {},
   "outputs": [],
   "source": []
  }
 ],
 "metadata": {
  "kernelspec": {
   "display_name": "Python 3 (ipykernel)",
   "language": "python",
   "name": "python3"
  },
  "language_info": {
   "codemirror_mode": {
    "name": "ipython",
    "version": 3
   },
   "file_extension": ".py",
   "mimetype": "text/x-python",
   "name": "python",
   "nbconvert_exporter": "python",
   "pygments_lexer": "ipython3",
   "version": "3.10.18"
  }
 },
 "nbformat": 4,
 "nbformat_minor": 5
}
