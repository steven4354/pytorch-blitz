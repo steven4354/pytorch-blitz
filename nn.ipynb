{
 "cells": [
  {
   "cell_type": "markdown",
   "id": "c7df3228-df82-4352-8ae0-8f25d5b83852",
   "metadata": {},
   "source": [
    "# 250616.1"
   ]
  },
  {
   "cell_type": "code",
   "execution_count": 1,
   "id": "04fdb57e-4e50-486b-9d89-0cc61d9ef008",
   "metadata": {},
   "outputs": [
    {
     "name": "stdout",
     "output_type": "stream",
     "text": [
      "Net(\n",
      "  (conv1): Conv2d(1, 6, kernel_size=(5, 5), stride=(1, 1))\n",
      "  (conv2): Conv2d(6, 16, kernel_size=(5, 5), stride=(1, 1))\n",
      "  (fc1): Linear(in_features=400, out_features=120, bias=True)\n",
      "  (fc2): Linear(in_features=120, out_features=84, bias=True)\n",
      "  (fc3): Linear(in_features=84, out_features=10, bias=True)\n",
      ")\n"
     ]
    }
   ],
   "source": [
    "import torch\n",
    "import torch.nn as nn\n",
    "import torch.nn.functional as F\n",
    "\n",
    "# For digit classification\n",
    "class Net(nn.Module):\n",
    "\n",
    "    def __init__(self):\n",
    "        super(Net, self).__init__()\n",
    "        # 1 input image channel, 6 output channels, 5x5 square convolution kernel\n",
    "        # For nn.Conv2d definition (see 250616.3) \n",
    "        self.conv1 = nn.Conv2d(1, 6, 5)\n",
    "        self.conv2 = nn.Conv2d(6, 16, 5)\n",
    "\n",
    "        # For why Linear layers are used after Convolutional layers (see 250618.4)\n",
    "        # nn.Linear represent an affine operation: y = Wx + b. For for nn.Linear definition (see 250617.1)  \n",
    "        self.fc1 = nn.Linear(16 * 5 * 5, 120)  # 5*5 from image dimension\n",
    "        self.fc2 = nn.Linear(120, 84)\n",
    "        self.fc3 = nn.Linear(84, 10) # outputs a vector size of 10, because it for classifying 10 digits.\n",
    "\n",
    "    def forward(self, input):\n",
    "        \n",
    "        # Convolution layer C1: 1 input image channel (means grayscale image - see 250616.4), 6 output channels (see 250616.5),\n",
    "        # 5x5 square convolution, it uses RELU activation function. \n",
    "        # For why RELU is needed after each layer (see 250618.6)\n",
    "        # Output: a Tensor with size (N, 6, 28, 28), where N is the size of the batch\n",
    "        c1 = F.relu(self.conv1(input))\n",
    "        \n",
    "        # Subsampling layer S2: 2x2 grid, purely functional,\n",
    "        # this layer does not have any parameter, and outputs a (N, 6, 14, 14) Tensor\n",
    "        # For definition of a subsampling / max_pool2d layer (see 250618.5)\n",
    "        s2 = F.max_pool2d(c1, (2, 2))\n",
    "        \n",
    "        # Convolution layer C3: 6 input channels, 16 output channels,\n",
    "        # 5x5 square convolution, it uses RELU activation function, and\n",
    "        # outputs a (N, 16, 10, 10) Tensor\n",
    "        c3 = F.relu(self.conv2(s2))\n",
    "        \n",
    "        # Subsampling layer S4: 2x2 grid, purely functional,\n",
    "        # this layer does not have any parameter, and outputs a (N, 16, 5, 5) Tensor\n",
    "        s4 = F.max_pool2d(c3, 2)\n",
    "        \n",
    "        # Flatten operation: purely functional, outputs a (N, 400) Tensor\n",
    "        # Turns a matrix into a vector. nn.Linear only works on vectors\n",
    "        s4 = torch.flatten(s4, 1)\n",
    "        \n",
    "        # Fully connected layer F5: (N, 400) Tensor input,\n",
    "        # and outputs a (N, 120) Tensor, it uses RELU activation function\n",
    "        f5 = F.relu(self.fc1(s4))\n",
    "        \n",
    "        # Fully connected layer F6: (N, 120) Tensor input,\n",
    "        # and outputs a (N, 84) Tensor, it uses RELU activation function\n",
    "        f6 = F.relu(self.fc2(f5))\n",
    "\n",
    "        # OUTPUT: (N, 84) Tensor input, and\n",
    "        # outputs a (N, 10) Tensor\n",
    "        output = self.fc3(f6)\n",
    "        return output\n",
    "\n",
    "    # only need to define forward, backward function is automatically defined using autograd\n",
    "\n",
    "\n",
    "net = Net()\n",
    "print(net)"
   ]
  },
  {
   "cell_type": "code",
   "execution_count": null,
   "id": "74bf323d-4aaa-4416-8ede-2e61cae89ff0",
   "metadata": {},
   "outputs": [],
   "source": []
  },
  {
   "cell_type": "code",
   "execution_count": 2,
   "id": "ddabe13a-53a5-4bfd-9b2a-993637001c19",
   "metadata": {},
   "outputs": [
    {
     "name": "stdout",
     "output_type": "stream",
     "text": [
      "tensor([[-0.0181, -0.0806,  0.0819,  0.0443,  0.1519, -0.0408,  0.0105, -0.0321,\n",
      "          0.1161,  0.0819]], grad_fn=<AddmmBackward0>)\n"
     ]
    }
   ],
   "source": [
    "input = torch.randn(1, 1, 32, 32)\n",
    "out = net(input)\n",
    "print(out)\n",
    "\n",
    "# Q: what do these negative and positive numbers mean? how do i figure out "
   ]
  },
  {
   "cell_type": "code",
   "execution_count": 3,
   "id": "6a2dae43-e087-4f6a-b749-9d9362dd762f",
   "metadata": {},
   "outputs": [],
   "source": [
    "# Q: what is zero_grad doing here?\n",
    "\n",
    "# Q: what is backward doing here?\n",
    "\n",
    "net.zero_grad()\n",
    "out.backward(torch.randn(1, 10))"
   ]
  }
 ],
 "metadata": {
  "kernelspec": {
   "display_name": "Python 3 (ipykernel)",
   "language": "python",
   "name": "python3"
  },
  "language_info": {
   "codemirror_mode": {
    "name": "ipython",
    "version": 3
   },
   "file_extension": ".py",
   "mimetype": "text/x-python",
   "name": "python",
   "nbconvert_exporter": "python",
   "pygments_lexer": "ipython3",
   "version": "3.10.18"
  }
 },
 "nbformat": 4,
 "nbformat_minor": 5
}
