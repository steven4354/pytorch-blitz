{
 "cells": [
  {
   "cell_type": "markdown",
   "id": "0bd83c34-4760-4149-8fa4-cf2768c9a8d2",
   "metadata": {},
   "source": [
    "# Pytorch Blitz - Pytorch Tensors (250615.4)\n",
    "\n",
    "https://docs.pytorch.org/tutorials/beginner/blitz/tensor_tutorial.html"
   ]
  },
  {
   "cell_type": "code",
   "execution_count": 3,
   "id": "a985f0be-2ad3-4335-a147-fde261a55814",
   "metadata": {},
   "outputs": [],
   "source": [
    "import torch\n",
    "import numpy as np"
   ]
  },
  {
   "cell_type": "markdown",
   "id": "6fcfc40e-fb99-4ce5-8b6f-01618af8b407",
   "metadata": {},
   "source": [
    "A tensor is just a matrix. \n",
    "\n",
    "You can make tensors/matrices from Python arrays using the `torch.tensor` class or from Numpay arrays the `torch.from_numpy` class "
   ]
  },
  {
   "cell_type": "code",
   "execution_count": 10,
   "id": "d9130ac8-412e-4e70-8e32-27e4e8cb93c6",
   "metadata": {},
   "outputs": [
    {
     "data": {
      "text/plain": [
       "tensor([[1, 2],\n",
       "        [3, 4]])"
      ]
     },
     "execution_count": 10,
     "metadata": {},
     "output_type": "execute_result"
    }
   ],
   "source": [
    "data = [[1, 2], [3, 4]]\n",
    "x_data = torch.tensor(data) \n",
    "x_data"
   ]
  },
  {
   "cell_type": "code",
   "execution_count": 12,
   "id": "174e6593-3617-4d2e-ab44-540b22b85636",
   "metadata": {},
   "outputs": [
    {
     "data": {
      "text/plain": [
       "tensor([[1, 2],\n",
       "        [3, 4]])"
      ]
     },
     "execution_count": 12,
     "metadata": {},
     "output_type": "execute_result"
    }
   ],
   "source": [
    "np_array = np.array(data)\n",
    "x_np = torch.from_numpy(np_array)\n",
    "x_np"
   ]
  },
  {
   "cell_type": "code",
   "execution_count": 11,
   "id": "d7afc7bc-29f5-4d17-9808-00fbf8d398fa",
   "metadata": {},
   "outputs": [
    {
     "name": "stdout",
     "output_type": "stream",
     "text": [
      "Ones Tensor: \n",
      " tensor([[1, 1],\n",
      "        [1, 1]]) \n",
      "\n",
      "Random Tensor: \n",
      " tensor([[0.2997, 0.3384],\n",
      "        [0.1528, 0.7128]]) \n",
      "\n"
     ]
    }
   ],
   "source": [
    "x_ones = torch.ones_like(x_data) # retains the properties of x_data\n",
    "print(f\"Ones Tensor: \\n {x_ones} \\n\")\n",
    "\n",
    "x_rand = torch.rand_like(x_data, dtype=torch.float) # overrides the datatype of x_data\n",
    "print(f\"Random Tensor: \\n {x_rand} \\n\")"
   ]
  }
 ],
 "metadata": {
  "kernelspec": {
   "display_name": "Python 3 (ipykernel)",
   "language": "python",
   "name": "python3"
  },
  "language_info": {
   "codemirror_mode": {
    "name": "ipython",
    "version": 3
   },
   "file_extension": ".py",
   "mimetype": "text/x-python",
   "name": "python",
   "nbconvert_exporter": "python",
   "pygments_lexer": "ipython3",
   "version": "3.10.18"
  }
 },
 "nbformat": 4,
 "nbformat_minor": 5
}
