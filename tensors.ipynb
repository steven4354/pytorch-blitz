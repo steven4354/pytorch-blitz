{
 "cells": [
  {
   "cell_type": "markdown",
   "id": "0bd83c34-4760-4149-8fa4-cf2768c9a8d2",
   "metadata": {},
   "source": [
    "# Pytorch Blitz - Pytorch Tensors (250615.4)\n",
    "\n",
    "https://docs.pytorch.org/tutorials/beginner/blitz/tensor_tutorial.html"
   ]
  },
  {
   "cell_type": "code",
   "execution_count": 3,
   "id": "a985f0be-2ad3-4335-a147-fde261a55814",
   "metadata": {},
   "outputs": [],
   "source": [
    "import torch\n",
    "import numpy as np"
   ]
  },
  {
   "cell_type": "markdown",
   "id": "6fcfc40e-fb99-4ce5-8b6f-01618af8b407",
   "metadata": {},
   "source": [
    "A tensor is just a matrix. \n",
    "\n",
    "You can make tensors/matrices from Python arrays using the `torch.tensor` class. Or the the `torch.from_numpy` class using Numpay arrays."
   ]
  },
  {
   "cell_type": "code",
   "execution_count": 10,
   "id": "d9130ac8-412e-4e70-8e32-27e4e8cb93c6",
   "metadata": {},
   "outputs": [
    {
     "data": {
      "text/plain": [
       "tensor([[1, 2],\n",
       "        [3, 4]])"
      ]
     },
     "execution_count": 10,
     "metadata": {},
     "output_type": "execute_result"
    }
   ],
   "source": [
    "data = [[1, 2], [3, 4]]\n",
    "x_data = torch.tensor(data) \n",
    "x_data"
   ]
  },
  {
   "cell_type": "code",
   "execution_count": 12,
   "id": "174e6593-3617-4d2e-ab44-540b22b85636",
   "metadata": {},
   "outputs": [
    {
     "data": {
      "text/plain": [
       "tensor([[1, 2],\n",
       "        [3, 4]])"
      ]
     },
     "execution_count": 12,
     "metadata": {},
     "output_type": "execute_result"
    }
   ],
   "source": [
    "np_array = np.array(data)\n",
    "x_np = torch.from_numpy(np_array)\n",
    "x_np"
   ]
  },
  {
   "cell_type": "markdown",
   "id": "a8c26c38-ee16-4a21-8244-25030b6abe92",
   "metadata": {},
   "source": [
    "Calling the `.shape` attribute on the tensor object gives the dimensions of the matrix. \n",
    "\n",
    "Format is in [rows, columns] "
   ]
  },
  {
   "cell_type": "code",
   "execution_count": 15,
   "id": "ceb62e29-fb54-4320-bf32-34f934bdd759",
   "metadata": {},
   "outputs": [
    {
     "data": {
      "text/plain": [
       "torch.Size([2, 2])"
      ]
     },
     "execution_count": 15,
     "metadata": {},
     "output_type": "execute_result"
    }
   ],
   "source": [
    "x_np.shape"
   ]
  },
  {
   "cell_type": "code",
   "execution_count": 16,
   "id": "104a10f6-d937-48df-85dd-b61ed71c7360",
   "metadata": {},
   "outputs": [
    {
     "data": {
      "text/plain": [
       "tensor([[1, 2, 3],\n",
       "        [3, 4, 5]])"
      ]
     },
     "execution_count": 16,
     "metadata": {},
     "output_type": "execute_result"
    }
   ],
   "source": [
    "data = [[1, 2, 3], [3, 4, 5]]\n",
    "x2_data = torch.tensor(data) \n",
    "x2_data"
   ]
  },
  {
   "cell_type": "code",
   "execution_count": 17,
   "id": "e871a958-016b-4b08-a3f9-4f9c552f4560",
   "metadata": {},
   "outputs": [
    {
     "data": {
      "text/plain": [
       "torch.Size([2, 3])"
      ]
     },
     "execution_count": 17,
     "metadata": {},
     "output_type": "execute_result"
    }
   ],
   "source": [
    "x2_data.shape"
   ]
  },
  {
   "cell_type": "markdown",
   "id": "36367e99-9f27-41b8-a060-a082b0b0eb93",
   "metadata": {},
   "source": [
    "### Why did NumPy not support matrices like Pytorch tensors? (250615.5)\n",
    "\n",
    "Numpy *does* do matrices. The NumPy `ndarray` can be n-dimensional (n = number of columns). BUT they live in the RAM/CPU only.\n",
    "\n",
    "In Pytorch, every `tensor` supports many devices (GPU, CPU, others). Each `tensor` object is aware of the device it is running on. You can see this with the `.device` attribute/flag."
   ]
  },
  {
   "cell_type": "code",
   "execution_count": 18,
   "id": "6ae17ace-756d-46cb-af2f-2f25713ae47a",
   "metadata": {},
   "outputs": [
    {
     "data": {
      "text/plain": [
       "device(type='cpu')"
      ]
     },
     "execution_count": 18,
     "metadata": {},
     "output_type": "execute_result"
    }
   ],
   "source": [
    "x2_data.device"
   ]
  },
  {
   "cell_type": "markdown",
   "id": "849ba529-0841-418d-8168-96cf3776e295",
   "metadata": {},
   "source": [
    "Example of moving a `tensor` object from cpu to a gpu: https://colab.research.google.com/drive/1V9X9je2illJSHYUHDhBeQQyhA6c8W7gg?usp=sharing"
   ]
  },
  {
   "cell_type": "markdown",
   "id": "272ede91-89d8-4b12-a203-0f2a5c72fb04",
   "metadata": {},
   "source": [
    "Also unlike NumPy `ndarray`, tensor operations can be chained and remembered. Outside of the output, operations on `ndarray` are not remembered/stored. \n",
    "\n",
    "This \"chain\" allows `tensor` to do automatic differentiation / backprop / `autograd`. The next tutorial will go over this."
   ]
  },
  {
   "cell_type": "code",
   "execution_count": null,
   "id": "a49df792-59fb-4643-a87a-516b69730326",
   "metadata": {},
   "outputs": [],
   "source": []
  },
  {
   "cell_type": "code",
   "execution_count": null,
   "id": "8d044a39-cc78-43ab-a01c-e98f0184d820",
   "metadata": {},
   "outputs": [],
   "source": []
  },
  {
   "cell_type": "code",
   "execution_count": null,
   "id": "9466ba3f-40e5-4682-8623-7fed08deb915",
   "metadata": {},
   "outputs": [],
   "source": []
  },
  {
   "cell_type": "code",
   "execution_count": null,
   "id": "54c226a1-4bee-4ebe-a24e-5f0e51e0d40e",
   "metadata": {},
   "outputs": [],
   "source": []
  }
 ],
 "metadata": {
  "kernelspec": {
   "display_name": "Python 3 (ipykernel)",
   "language": "python",
   "name": "python3"
  },
  "language_info": {
   "codemirror_mode": {
    "name": "ipython",
    "version": 3
   },
   "file_extension": ".py",
   "mimetype": "text/x-python",
   "name": "python",
   "nbconvert_exporter": "python",
   "pygments_lexer": "ipython3",
   "version": "3.10.18"
  }
 },
 "nbformat": 4,
 "nbformat_minor": 5
}
